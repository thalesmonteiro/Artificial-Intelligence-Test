{
 "cells": [
  {
   "cell_type": "markdown",
   "metadata": {},
   "source": [
    "# Prova IA : Questão 2  \n",
    "\n",
    "\n",
    "## Thales Monteiro Soares  "
   ]
  },
  {
   "cell_type": "markdown",
   "metadata": {},
   "source": [
    "#### Base disponivel em: https://archive.ics.uci.edu/ml/machine-learning-databases/00492/"
   ]
  },
  {
   "cell_type": "markdown",
   "metadata": {},
   "source": [
    "# <center> Análise do volume de tráfego"
   ]
  },
  {
   "cell_type": "code",
   "execution_count": 77,
   "metadata": {},
   "outputs": [],
   "source": [
    "import matplotlib.pyplot as plt\n",
    "import numpy as np\n",
    "import pandas as pd\n",
    "\n",
    "%matplotlib inline"
   ]
  },
  {
   "cell_type": "code",
   "execution_count": null,
   "metadata": {},
   "outputs": [],
   "source": [
    "df = pd.read_csv('Metro_Interstate_Traffic_Volume.csv')"
   ]
  },
  {
   "cell_type": "markdown",
   "metadata": {},
   "source": [
    "### Visualização da base de dados"
   ]
  },
  {
   "cell_type": "code",
   "execution_count": 364,
   "metadata": {},
   "outputs": [
    {
     "data": {
      "text/html": [
       "<div>\n",
       "<style scoped>\n",
       "    .dataframe tbody tr th:only-of-type {\n",
       "        vertical-align: middle;\n",
       "    }\n",
       "\n",
       "    .dataframe tbody tr th {\n",
       "        vertical-align: top;\n",
       "    }\n",
       "\n",
       "    .dataframe thead th {\n",
       "        text-align: right;\n",
       "    }\n",
       "</style>\n",
       "<table border=\"1\" class=\"dataframe\">\n",
       "  <thead>\n",
       "    <tr style=\"text-align: right;\">\n",
       "      <th></th>\n",
       "      <th>holiday</th>\n",
       "      <th>temp</th>\n",
       "      <th>rain_1h</th>\n",
       "      <th>snow_1h</th>\n",
       "      <th>clouds_all</th>\n",
       "      <th>weather_main</th>\n",
       "      <th>weather_description</th>\n",
       "      <th>date_time</th>\n",
       "      <th>traffic_volume</th>\n",
       "    </tr>\n",
       "  </thead>\n",
       "  <tbody>\n",
       "    <tr>\n",
       "      <th>0</th>\n",
       "      <td>None</td>\n",
       "      <td>288.28</td>\n",
       "      <td>0.0</td>\n",
       "      <td>0.0</td>\n",
       "      <td>40</td>\n",
       "      <td>Clouds</td>\n",
       "      <td>scattered clouds</td>\n",
       "      <td>2012-10-02 09:00:00</td>\n",
       "      <td>5545</td>\n",
       "    </tr>\n",
       "    <tr>\n",
       "      <th>1</th>\n",
       "      <td>None</td>\n",
       "      <td>289.36</td>\n",
       "      <td>0.0</td>\n",
       "      <td>0.0</td>\n",
       "      <td>75</td>\n",
       "      <td>Clouds</td>\n",
       "      <td>broken clouds</td>\n",
       "      <td>2012-10-02 10:00:00</td>\n",
       "      <td>4516</td>\n",
       "    </tr>\n",
       "    <tr>\n",
       "      <th>2</th>\n",
       "      <td>None</td>\n",
       "      <td>289.58</td>\n",
       "      <td>0.0</td>\n",
       "      <td>0.0</td>\n",
       "      <td>90</td>\n",
       "      <td>Clouds</td>\n",
       "      <td>overcast clouds</td>\n",
       "      <td>2012-10-02 11:00:00</td>\n",
       "      <td>4767</td>\n",
       "    </tr>\n",
       "    <tr>\n",
       "      <th>3</th>\n",
       "      <td>None</td>\n",
       "      <td>290.13</td>\n",
       "      <td>0.0</td>\n",
       "      <td>0.0</td>\n",
       "      <td>90</td>\n",
       "      <td>Clouds</td>\n",
       "      <td>overcast clouds</td>\n",
       "      <td>2012-10-02 12:00:00</td>\n",
       "      <td>5026</td>\n",
       "    </tr>\n",
       "    <tr>\n",
       "      <th>4</th>\n",
       "      <td>None</td>\n",
       "      <td>291.14</td>\n",
       "      <td>0.0</td>\n",
       "      <td>0.0</td>\n",
       "      <td>75</td>\n",
       "      <td>Clouds</td>\n",
       "      <td>broken clouds</td>\n",
       "      <td>2012-10-02 13:00:00</td>\n",
       "      <td>4918</td>\n",
       "    </tr>\n",
       "  </tbody>\n",
       "</table>\n",
       "</div>"
      ],
      "text/plain": [
       "  holiday    temp  rain_1h  snow_1h  clouds_all weather_main  \\\n",
       "0    None  288.28      0.0      0.0          40       Clouds   \n",
       "1    None  289.36      0.0      0.0          75       Clouds   \n",
       "2    None  289.58      0.0      0.0          90       Clouds   \n",
       "3    None  290.13      0.0      0.0          90       Clouds   \n",
       "4    None  291.14      0.0      0.0          75       Clouds   \n",
       "\n",
       "  weather_description            date_time  traffic_volume  \n",
       "0    scattered clouds  2012-10-02 09:00:00            5545  \n",
       "1       broken clouds  2012-10-02 10:00:00            4516  \n",
       "2     overcast clouds  2012-10-02 11:00:00            4767  \n",
       "3     overcast clouds  2012-10-02 12:00:00            5026  \n",
       "4       broken clouds  2012-10-02 13:00:00            4918  "
      ]
     },
     "execution_count": 364,
     "metadata": {},
     "output_type": "execute_result"
    }
   ],
   "source": [
    "df.head()"
   ]
  },
  {
   "cell_type": "markdown",
   "metadata": {},
   "source": [
    "# Pré processamento dos dados\n",
    "\n",
    "## Verificando dados duplicados"
   ]
  },
  {
   "cell_type": "markdown",
   "metadata": {},
   "source": [
    "#### Foi verificado que há 17 instancias duplicadas no nosso dataframe."
   ]
  },
  {
   "cell_type": "code",
   "execution_count": 79,
   "metadata": {},
   "outputs": [
    {
     "name": "stdout",
     "output_type": "stream",
     "text": [
      "Valores duplicados: False    48187\n",
      "True        17\n",
      "dtype: int64\n"
     ]
    }
   ],
   "source": [
    "print('Valores duplicados:', df.duplicated().value_counts())"
   ]
  },
  {
   "cell_type": "markdown",
   "metadata": {},
   "source": [
    "#### Excluindo as  linhas duplicadas"
   ]
  },
  {
   "cell_type": "code",
   "execution_count": 80,
   "metadata": {},
   "outputs": [],
   "source": [
    "df.drop_duplicates(subset=None, keep= 'first', inplace=True)"
   ]
  },
  {
   "cell_type": "markdown",
   "metadata": {},
   "source": [
    "## Verificando dados NULL"
   ]
  },
  {
   "cell_type": "markdown",
   "metadata": {},
   "source": [
    "#### Não há nenhum dado null no dataframe"
   ]
  },
  {
   "cell_type": "code",
   "execution_count": 81,
   "metadata": {},
   "outputs": [
    {
     "name": "stdout",
     "output_type": "stream",
     "text": [
      "Valores faltantes: holiday                0\n",
      "temp                   0\n",
      "rain_1h                0\n",
      "snow_1h                0\n",
      "clouds_all             0\n",
      "weather_main           0\n",
      "weather_description    0\n",
      "date_time              0\n",
      "traffic_volume         0\n",
      "dtype: int64\n"
     ]
    }
   ],
   "source": [
    "print('Valores faltantes:', df.isnull().sum())"
   ]
  },
  {
   "cell_type": "markdown",
   "metadata": {},
   "source": [
    "## Visualizando as colunas que possuem texto como informação"
   ]
  },
  {
   "cell_type": "markdown",
   "metadata": {},
   "source": [
    "#### Foi observado que as colunas: holiday, weather_main e weather_description possuiam texto como informação. Precisaremos utilizar a técnica de label encoder para transformar essas informações de texto para númericas.\n",
    "  "
   ]
  },
  {
   "cell_type": "markdown",
   "metadata": {},
   "source": [
    "#### A coluna Weather_description possui 38 descrições do clima, porém a descrição \"sky is clear\" aparece novamente no dataset como \"Sky is Clear\". Como ambas tratam da mesma descrição precisamos juntá-las."
   ]
  },
  {
   "cell_type": "code",
   "execution_count": 82,
   "metadata": {},
   "outputs": [],
   "source": [
    "# Renomeando as instancias com \"Sky is Clear\" para \"sky is clear\".\n",
    "df.replace(to_replace =\"Sky is Clear\", \n",
    "           value =\"sky is clear\", inplace = True)"
   ]
  },
  {
   "cell_type": "markdown",
   "metadata": {},
   "source": [
    "## Verificando Outlier na base"
   ]
  },
  {
   "cell_type": "markdown",
   "metadata": {},
   "source": [
    "### Outlier observado na na coluna rain_1h"
   ]
  },
  {
   "cell_type": "code",
   "execution_count": 83,
   "metadata": {},
   "outputs": [
    {
     "data": {
      "text/plain": [
       "<matplotlib.axes._subplots.AxesSubplot at 0x7f5d5d13c2e8>"
      ]
     },
     "execution_count": 83,
     "metadata": {},
     "output_type": "execute_result"
    },
    {
     "data": {
      "image/png": "[encoded data removed]",
      "text/plain": [
       "<Figure size 432x288 with 1 Axes>"
      ]
     },
     "metadata": {
      "needs_background": "light"
     },
     "output_type": "display_data"
    }
   ],
   "source": [
    "df.boxplot()"
   ]
  },
  {
   "cell_type": "code",
   "execution_count": 84,
   "metadata": {},
   "outputs": [
    {
     "data": {
      "text/plain": [
       "24872    9831.30\n",
       "8247       55.63\n",
       "Name: rain_1h, dtype: float64"
      ]
     },
     "execution_count": 84,
     "metadata": {},
     "output_type": "execute_result"
    }
   ],
   "source": [
    "# Verificado outlier na linha 24872 \n",
    "df['rain_1h'].nlargest(2)"
   ]
  },
  {
   "cell_type": "markdown",
   "metadata": {},
   "source": [
    "#### Excluindo instância do outlier"
   ]
  },
  {
   "cell_type": "code",
   "execution_count": 85,
   "metadata": {},
   "outputs": [],
   "source": [
    "df = df.drop(24872, axis = 0)"
   ]
  },
  {
   "cell_type": "markdown",
   "metadata": {},
   "source": [
    "### Verificando outlier na coluna temp"
   ]
  },
  {
   "cell_type": "markdown",
   "metadata": {},
   "source": [
    "### Verificou-se que há 10 outliers no valor de 0"
   ]
  },
  {
   "cell_type": "code",
   "execution_count": 86,
   "metadata": {
    "scrolled": true
   },
   "outputs": [
    {
     "data": {
      "text/plain": [
       "<matplotlib.axes._subplots.AxesSubplot at 0x7f5d5caee320>"
      ]
     },
     "execution_count": 86,
     "metadata": {},
     "output_type": "execute_result"
    },
    {
     "data": {
      "image/png": "[encoded data removed]",
      "text/plain": [
       "<Figure size 432x288 with 1 Axes>"
      ]
     },
     "metadata": {
      "needs_background": "light"
     },
     "output_type": "display_data"
    }
   ],
   "source": [
    "pd.DataFrame(df['temp']).boxplot()"
   ]
  },
  {
   "cell_type": "code",
   "execution_count": 87,
   "metadata": {
    "scrolled": true
   },
   "outputs": [
    {
     "data": {
      "text/plain": [
       "11898      0.00\n",
       "11899      0.00\n",
       "11900      0.00\n",
       "11901      0.00\n",
       "11946      0.00\n",
       "11947      0.00\n",
       "11948      0.00\n",
       "11949      0.00\n",
       "11950      0.00\n",
       "11951      0.00\n",
       "29252    243.39\n",
       "Name: temp, dtype: float64"
      ]
     },
     "execution_count": 87,
     "metadata": {},
     "output_type": "execute_result"
    }
   ],
   "source": [
    "# Verificando o indice dos outlier\n",
    "df['temp'].nsmallest(11)"
   ]
  },
  {
   "cell_type": "markdown",
   "metadata": {},
   "source": [
    "#### Excluindo outliers do dataframe"
   ]
  },
  {
   "cell_type": "code",
   "execution_count": 88,
   "metadata": {},
   "outputs": [],
   "source": [
    "df = df.drop([11898, 11899, 11900, 11901, 11946, 11947, 11948, 11949, 11950, 11951], axis = 0)"
   ]
  },
  {
   "cell_type": "markdown",
   "metadata": {},
   "source": [
    "## Realizando Label Enconder "
   ]
  },
  {
   "cell_type": "markdown",
   "metadata": {},
   "source": [
    "#### Label encoder na coluna Holiday"
   ]
  },
  {
   "cell_type": "code",
   "execution_count": 89,
   "metadata": {},
   "outputs": [],
   "source": [
    "from sklearn.preprocessing import LabelEncoder\n",
    "\n",
    "holiday = LabelEncoder().fit_transform(df['holiday'])\n",
    "df['holiday'] = holiday"
   ]
  },
  {
   "cell_type": "markdown",
   "metadata": {},
   "source": [
    "#### Label encoder na coluna weather_main"
   ]
  },
  {
   "cell_type": "code",
   "execution_count": 90,
   "metadata": {},
   "outputs": [],
   "source": [
    "weather = LabelEncoder().fit_transform(df['weather_main'])\n",
    "df['weather_main'] = weather"
   ]
  },
  {
   "cell_type": "markdown",
   "metadata": {
    "scrolled": true
   },
   "source": [
    "#### Label encoder na coluna weather_description"
   ]
  },
  {
   "cell_type": "code",
   "execution_count": 91,
   "metadata": {},
   "outputs": [],
   "source": [
    "weather_desc = LabelEncoder().fit_transform(df['weather_description'])\n",
    "df['weather_description'] = weather_desc"
   ]
  },
  {
   "cell_type": "markdown",
   "metadata": {},
   "source": [
    "#### Verificando a base após label encoder"
   ]
  },
  {
   "cell_type": "code",
   "execution_count": 92,
   "metadata": {},
   "outputs": [
    {
     "data": {
      "text/html": [
       "<div>\n",
       "<style scoped>\n",
       "    .dataframe tbody tr th:only-of-type {\n",
       "        vertical-align: middle;\n",
       "    }\n",
       "\n",
       "    .dataframe tbody tr th {\n",
       "        vertical-align: top;\n",
       "    }\n",
       "\n",
       "    .dataframe thead th {\n",
       "        text-align: right;\n",
       "    }\n",
       "</style>\n",
       "<table border=\"1\" class=\"dataframe\">\n",
       "  <thead>\n",
       "    <tr style=\"text-align: right;\">\n",
       "      <th></th>\n",
       "      <th>holiday</th>\n",
       "      <th>temp</th>\n",
       "      <th>rain_1h</th>\n",
       "      <th>snow_1h</th>\n",
       "      <th>clouds_all</th>\n",
       "      <th>weather_main</th>\n",
       "      <th>weather_description</th>\n",
       "      <th>date_time</th>\n",
       "      <th>traffic_volume</th>\n",
       "    </tr>\n",
       "  </thead>\n",
       "  <tbody>\n",
       "    <tr>\n",
       "      <th>0</th>\n",
       "      <td>7</td>\n",
       "      <td>288.28</td>\n",
       "      <td>0.0</td>\n",
       "      <td>0.0</td>\n",
       "      <td>40</td>\n",
       "      <td>1</td>\n",
       "      <td>23</td>\n",
       "      <td>2012-10-02 09:00:00</td>\n",
       "      <td>5545</td>\n",
       "    </tr>\n",
       "    <tr>\n",
       "      <th>1</th>\n",
       "      <td>7</td>\n",
       "      <td>289.36</td>\n",
       "      <td>0.0</td>\n",
       "      <td>0.0</td>\n",
       "      <td>75</td>\n",
       "      <td>1</td>\n",
       "      <td>1</td>\n",
       "      <td>2012-10-02 10:00:00</td>\n",
       "      <td>4516</td>\n",
       "    </tr>\n",
       "    <tr>\n",
       "      <th>2</th>\n",
       "      <td>7</td>\n",
       "      <td>289.58</td>\n",
       "      <td>0.0</td>\n",
       "      <td>0.0</td>\n",
       "      <td>90</td>\n",
       "      <td>1</td>\n",
       "      <td>18</td>\n",
       "      <td>2012-10-02 11:00:00</td>\n",
       "      <td>4767</td>\n",
       "    </tr>\n",
       "    <tr>\n",
       "      <th>3</th>\n",
       "      <td>7</td>\n",
       "      <td>290.13</td>\n",
       "      <td>0.0</td>\n",
       "      <td>0.0</td>\n",
       "      <td>90</td>\n",
       "      <td>1</td>\n",
       "      <td>18</td>\n",
       "      <td>2012-10-02 12:00:00</td>\n",
       "      <td>5026</td>\n",
       "    </tr>\n",
       "    <tr>\n",
       "      <th>4</th>\n",
       "      <td>7</td>\n",
       "      <td>291.14</td>\n",
       "      <td>0.0</td>\n",
       "      <td>0.0</td>\n",
       "      <td>75</td>\n",
       "      <td>1</td>\n",
       "      <td>1</td>\n",
       "      <td>2012-10-02 13:00:00</td>\n",
       "      <td>4918</td>\n",
       "    </tr>\n",
       "  </tbody>\n",
       "</table>\n",
       "</div>"
      ],
      "text/plain": [
       "   holiday    temp  rain_1h  snow_1h  clouds_all  weather_main  \\\n",
       "0        7  288.28      0.0      0.0          40             1   \n",
       "1        7  289.36      0.0      0.0          75             1   \n",
       "2        7  289.58      0.0      0.0          90             1   \n",
       "3        7  290.13      0.0      0.0          90             1   \n",
       "4        7  291.14      0.0      0.0          75             1   \n",
       "\n",
       "   weather_description            date_time  traffic_volume  \n",
       "0                   23  2012-10-02 09:00:00            5545  \n",
       "1                    1  2012-10-02 10:00:00            4516  \n",
       "2                   18  2012-10-02 11:00:00            4767  \n",
       "3                   18  2012-10-02 12:00:00            5026  \n",
       "4                    1  2012-10-02 13:00:00            4918  "
      ]
     },
     "execution_count": 92,
     "metadata": {},
     "output_type": "execute_result"
    }
   ],
   "source": [
    "df.head()"
   ]
  },
  {
   "cell_type": "markdown",
   "metadata": {},
   "source": [
    "## Rearranjando os dados da coluna date_time"
   ]
  },
  {
   "cell_type": "markdown",
   "metadata": {},
   "source": [
    "#### A base possui uma coluna chamada date_time que guarda a data e a hora da aferição do volume de trafego. Essa coluna é importante para a obtenção do volume de tráfego."
   ]
  },
  {
   "cell_type": "markdown",
   "metadata": {},
   "source": [
    "#### Precisamos transformar o campo date_time em dois campos, um com as horas e o outro com o dia da semana."
   ]
  },
  {
   "cell_type": "code",
   "execution_count": 93,
   "metadata": {},
   "outputs": [],
   "source": [
    "traffic = df.pop('traffic_volume')\n",
    "\n",
    "df['date_time'] = pd.to_datetime(df['date_time'], errors = 'raise')\n",
    "df['day_of_week'] = pd.to_datetime(df['date_time'], errors = 'raise').dt.dayofweek\n",
    "df['hour'] = pd.to_datetime(df['date_time'], errors = 'raise').dt.hour\n",
    "df['traffic_volume'] = traffic"
   ]
  },
  {
   "cell_type": "markdown",
   "metadata": {},
   "source": [
    "#### Removendo a coluna date_time, pois já temos a informação necessária nas colunas hour e day_of_week"
   ]
  },
  {
   "cell_type": "code",
   "execution_count": 94,
   "metadata": {},
   "outputs": [],
   "source": [
    "df.drop('date_time', axis = 1, inplace = True)"
   ]
  },
  {
   "cell_type": "markdown",
   "metadata": {},
   "source": [
    "#### Na Matriz de correlação a seguir é possivel observar que as maiores correlações com o traffic_volume é das colunas hour e day_of_week."
   ]
  },
  {
   "cell_type": "code",
   "execution_count": 95,
   "metadata": {},
   "outputs": [
    {
     "data": {
      "text/html": [
       "<style  type=\"text/css\" >\n",
       "    #T_9d5de02e_5834_11ea_9d30_d05099219fe1row0_col0 {\n",
       "            background-color:  #b40426;\n",
       "            color:  #f1f1f1;\n",
       "        }    #T_9d5de02e_5834_11ea_9d30_d05099219fe1row0_col1 {\n",
       "            background-color:  #5977e3;\n",
       "            color:  #000000;\n",
       "        }    #T_9d5de02e_5834_11ea_9d30_d05099219fe1row0_col2 {\n",
       "            background-color:  #4055c8;\n",
       "            color:  #f1f1f1;\n",
       "        }    #T_9d5de02e_5834_11ea_9d30_d05099219fe1row0_col3 {\n",
       "            background-color:  #4055c8;\n",
       "            color:  #f1f1f1;\n",
       "        }    #T_9d5de02e_5834_11ea_9d30_d05099219fe1row0_col4 {\n",
       "            background-color:  #aac7fd;\n",
       "            color:  #000000;\n",
       "        }    #T_9d5de02e_5834_11ea_9d30_d05099219fe1row0_col5 {\n",
       "            background-color:  #7699f6;\n",
       "            color:  #000000;\n",
       "        }    #T_9d5de02e_5834_11ea_9d30_d05099219fe1row0_col6 {\n",
       "            background-color:  #a6c4fe;\n",
       "            color:  #000000;\n",
       "        }    #T_9d5de02e_5834_11ea_9d30_d05099219fe1row0_col7 {\n",
       "            background-color:  #6a8bef;\n",
       "            color:  #000000;\n",
       "        }    #T_9d5de02e_5834_11ea_9d30_d05099219fe1row0_col8 {\n",
       "            background-color:  #516ddb;\n",
       "            color:  #000000;\n",
       "        }    #T_9d5de02e_5834_11ea_9d30_d05099219fe1row0_col9 {\n",
       "            background-color:  #688aef;\n",
       "            color:  #000000;\n",
       "        }    #T_9d5de02e_5834_11ea_9d30_d05099219fe1row1_col0 {\n",
       "            background-color:  #3c4ec2;\n",
       "            color:  #f1f1f1;\n",
       "        }    #T_9d5de02e_5834_11ea_9d30_d05099219fe1row1_col1 {\n",
       "            background-color:  #b40426;\n",
       "            color:  #f1f1f1;\n",
       "        }    #T_9d5de02e_5834_11ea_9d30_d05099219fe1row1_col2 {\n",
       "            background-color:  #5d7ce6;\n",
       "            color:  #000000;\n",
       "        }    #T_9d5de02e_5834_11ea_9d30_d05099219fe1row1_col3 {\n",
       "            background-color:  #3b4cc0;\n",
       "            color:  #f1f1f1;\n",
       "        }    #T_9d5de02e_5834_11ea_9d30_d05099219fe1row1_col4 {\n",
       "            background-color:  #8db0fe;\n",
       "            color:  #000000;\n",
       "        }    #T_9d5de02e_5834_11ea_9d30_d05099219fe1row1_col5 {\n",
       "            background-color:  #6b8df0;\n",
       "            color:  #000000;\n",
       "        }    #T_9d5de02e_5834_11ea_9d30_d05099219fe1row1_col6 {\n",
       "            background-color:  #afcafc;\n",
       "            color:  #000000;\n",
       "        }    #T_9d5de02e_5834_11ea_9d30_d05099219fe1row1_col7 {\n",
       "            background-color:  #6282ea;\n",
       "            color:  #000000;\n",
       "        }    #T_9d5de02e_5834_11ea_9d30_d05099219fe1row1_col8 {\n",
       "            background-color:  #6c8ff1;\n",
       "            color:  #000000;\n",
       "        }    #T_9d5de02e_5834_11ea_9d30_d05099219fe1row1_col9 {\n",
       "            background-color:  #8badfd;\n",
       "            color:  #000000;\n",
       "        }    #T_9d5de02e_5834_11ea_9d30_d05099219fe1row2_col0 {\n",
       "            background-color:  #3d50c3;\n",
       "            color:  #f1f1f1;\n",
       "        }    #T_9d5de02e_5834_11ea_9d30_d05099219fe1row2_col1 {\n",
       "            background-color:  #7597f6;\n",
       "            color:  #000000;\n",
       "        }    #T_9d5de02e_5834_11ea_9d30_d05099219fe1row2_col2 {\n",
       "            background-color:  #b40426;\n",
       "            color:  #f1f1f1;\n",
       "        }    #T_9d5de02e_5834_11ea_9d30_d05099219fe1row2_col3 {\n",
       "            background-color:  #4055c8;\n",
       "            color:  #f1f1f1;\n",
       "        }    #T_9d5de02e_5834_11ea_9d30_d05099219fe1row2_col4 {\n",
       "            background-color:  #bbd1f8;\n",
       "            color:  #000000;\n",
       "        }    #T_9d5de02e_5834_11ea_9d30_d05099219fe1row2_col5 {\n",
       "            background-color:  #a9c6fd;\n",
       "            color:  #000000;\n",
       "        }    #T_9d5de02e_5834_11ea_9d30_d05099219fe1row2_col6 {\n",
       "            background-color:  #a9c6fd;\n",
       "            color:  #000000;\n",
       "        }    #T_9d5de02e_5834_11ea_9d30_d05099219fe1row2_col7 {\n",
       "            background-color:  #6180e9;\n",
       "            color:  #000000;\n",
       "        }    #T_9d5de02e_5834_11ea_9d30_d05099219fe1row2_col8 {\n",
       "            background-color:  #465ecf;\n",
       "            color:  #f1f1f1;\n",
       "        }    #T_9d5de02e_5834_11ea_9d30_d05099219fe1row2_col9 {\n",
       "            background-color:  #5d7ce6;\n",
       "            color:  #000000;\n",
       "        }    #T_9d5de02e_5834_11ea_9d30_d05099219fe1row3_col0 {\n",
       "            background-color:  #3d50c3;\n",
       "            color:  #f1f1f1;\n",
       "        }    #T_9d5de02e_5834_11ea_9d30_d05099219fe1row3_col1 {\n",
       "            background-color:  #5470de;\n",
       "            color:  #000000;\n",
       "        }    #T_9d5de02e_5834_11ea_9d30_d05099219fe1row3_col2 {\n",
       "            background-color:  #4055c8;\n",
       "            color:  #f1f1f1;\n",
       "        }    #T_9d5de02e_5834_11ea_9d30_d05099219fe1row3_col3 {\n",
       "            background-color:  #b40426;\n",
       "            color:  #f1f1f1;\n",
       "        }    #T_9d5de02e_5834_11ea_9d30_d05099219fe1row3_col4 {\n",
       "            background-color:  #afcafc;\n",
       "            color:  #000000;\n",
       "        }    #T_9d5de02e_5834_11ea_9d30_d05099219fe1row3_col5 {\n",
       "            background-color:  #81a4fb;\n",
       "            color:  #000000;\n",
       "        }    #T_9d5de02e_5834_11ea_9d30_d05099219fe1row3_col6 {\n",
       "            background-color:  #a9c6fd;\n",
       "            color:  #000000;\n",
       "        }    #T_9d5de02e_5834_11ea_9d30_d05099219fe1row3_col7 {\n",
       "            background-color:  #5e7de7;\n",
       "            color:  #000000;\n",
       "        }    #T_9d5de02e_5834_11ea_9d30_d05099219fe1row3_col8 {\n",
       "            background-color:  #4c66d6;\n",
       "            color:  #000000;\n",
       "        }    #T_9d5de02e_5834_11ea_9d30_d05099219fe1row3_col9 {\n",
       "            background-color:  #6384eb;\n",
       "            color:  #000000;\n",
       "        }    #T_9d5de02e_5834_11ea_9d30_d05099219fe1row4_col0 {\n",
       "            background-color:  #3e51c5;\n",
       "            color:  #f1f1f1;\n",
       "        }    #T_9d5de02e_5834_11ea_9d30_d05099219fe1row4_col1 {\n",
       "            background-color:  #3b4cc0;\n",
       "            color:  #f1f1f1;\n",
       "        }    #T_9d5de02e_5834_11ea_9d30_d05099219fe1row4_col2 {\n",
       "            background-color:  #5a78e4;\n",
       "            color:  #000000;\n",
       "        }    #T_9d5de02e_5834_11ea_9d30_d05099219fe1row4_col3 {\n",
       "            background-color:  #4961d2;\n",
       "            color:  #f1f1f1;\n",
       "        }    #T_9d5de02e_5834_11ea_9d30_d05099219fe1row4_col4 {\n",
       "            background-color:  #b40426;\n",
       "            color:  #f1f1f1;\n",
       "        }    #T_9d5de02e_5834_11ea_9d30_d05099219fe1row4_col5 {\n",
       "            background-color:  #f1ccb8;\n",
       "            color:  #000000;\n",
       "        }    #T_9d5de02e_5834_11ea_9d30_d05099219fe1row4_col6 {\n",
       "            background-color:  #3b4cc0;\n",
       "            color:  #f1f1f1;\n",
       "        }    #T_9d5de02e_5834_11ea_9d30_d05099219fe1row4_col7 {\n",
       "            background-color:  #5875e1;\n",
       "            color:  #000000;\n",
       "        }    #T_9d5de02e_5834_11ea_9d30_d05099219fe1row4_col8 {\n",
       "            background-color:  #5a78e4;\n",
       "            color:  #000000;\n",
       "        }    #T_9d5de02e_5834_11ea_9d30_d05099219fe1row4_col9 {\n",
       "            background-color:  #779af7;\n",
       "            color:  #000000;\n",
       "        }    #T_9d5de02e_5834_11ea_9d30_d05099219fe1row5_col0 {\n",
       "            background-color:  #3b4cc0;\n",
       "            color:  #f1f1f1;\n",
       "        }    #T_9d5de02e_5834_11ea_9d30_d05099219fe1row5_col1 {\n",
       "            background-color:  #4e68d8;\n",
       "            color:  #000000;\n",
       "        }    #T_9d5de02e_5834_11ea_9d30_d05099219fe1row5_col2 {\n",
       "            background-color:  #799cf8;\n",
       "            color:  #000000;\n",
       "        }    #T_9d5de02e_5834_11ea_9d30_d05099219fe1row5_col3 {\n",
       "            background-color:  #4b64d5;\n",
       "            color:  #f1f1f1;\n",
       "        }    #T_9d5de02e_5834_11ea_9d30_d05099219fe1row5_col4 {\n",
       "            background-color:  #f7b89c;\n",
       "            color:  #000000;\n",
       "        }    #T_9d5de02e_5834_11ea_9d30_d05099219fe1row5_col5 {\n",
       "            background-color:  #b40426;\n",
       "            color:  #f1f1f1;\n",
       "        }    #T_9d5de02e_5834_11ea_9d30_d05099219fe1row5_col6 {\n",
       "            background-color:  #7295f4;\n",
       "            color:  #000000;\n",
       "        }    #T_9d5de02e_5834_11ea_9d30_d05099219fe1row5_col7 {\n",
       "            background-color:  #5875e1;\n",
       "            color:  #000000;\n",
       "        }    #T_9d5de02e_5834_11ea_9d30_d05099219fe1row5_col8 {\n",
       "            background-color:  #3b4cc0;\n",
       "            color:  #f1f1f1;\n",
       "        }    #T_9d5de02e_5834_11ea_9d30_d05099219fe1row5_col9 {\n",
       "            background-color:  #5875e1;\n",
       "            color:  #000000;\n",
       "        }    #T_9d5de02e_5834_11ea_9d30_d05099219fe1row6_col0 {\n",
       "            background-color:  #3b4cc0;\n",
       "            color:  #f1f1f1;\n",
       "        }    #T_9d5de02e_5834_11ea_9d30_d05099219fe1row6_col1 {\n",
       "            background-color:  #6384eb;\n",
       "            color:  #000000;\n",
       "        }    #T_9d5de02e_5834_11ea_9d30_d05099219fe1row6_col2 {\n",
       "            background-color:  #4257c9;\n",
       "            color:  #f1f1f1;\n",
       "        }    #T_9d5de02e_5834_11ea_9d30_d05099219fe1row6_col3 {\n",
       "            background-color:  #4055c8;\n",
       "            color:  #f1f1f1;\n",
       "        }    #T_9d5de02e_5834_11ea_9d30_d05099219fe1row6_col4 {\n",
       "            background-color:  #3b4cc0;\n",
       "            color:  #f1f1f1;\n",
       "        }    #T_9d5de02e_5834_11ea_9d30_d05099219fe1row6_col5 {\n",
       "            background-color:  #3b4cc0;\n",
       "            color:  #f1f1f1;\n",
       "        }    #T_9d5de02e_5834_11ea_9d30_d05099219fe1row6_col6 {\n",
       "            background-color:  #b40426;\n",
       "            color:  #f1f1f1;\n",
       "        }    #T_9d5de02e_5834_11ea_9d30_d05099219fe1row6_col7 {\n",
       "            background-color:  #6b8df0;\n",
       "            color:  #000000;\n",
       "        }    #T_9d5de02e_5834_11ea_9d30_d05099219fe1row6_col8 {\n",
       "            background-color:  #455cce;\n",
       "            color:  #f1f1f1;\n",
       "        }    #T_9d5de02e_5834_11ea_9d30_d05099219fe1row6_col9 {\n",
       "            background-color:  #516ddb;\n",
       "            color:  #000000;\n",
       "        }    #T_9d5de02e_5834_11ea_9d30_d05099219fe1row7_col0 {\n",
       "            background-color:  #4358cb;\n",
       "            color:  #f1f1f1;\n",
       "        }    #T_9d5de02e_5834_11ea_9d30_d05099219fe1row7_col1 {\n",
       "            background-color:  #5977e3;\n",
       "            color:  #000000;\n",
       "        }    #T_9d5de02e_5834_11ea_9d30_d05099219fe1row7_col2 {\n",
       "            background-color:  #3f53c6;\n",
       "            color:  #f1f1f1;\n",
       "        }    #T_9d5de02e_5834_11ea_9d30_d05099219fe1row7_col3 {\n",
       "            background-color:  #3c4ec2;\n",
       "            color:  #f1f1f1;\n",
       "        }    #T_9d5de02e_5834_11ea_9d30_d05099219fe1row7_col4 {\n",
       "            background-color:  #9fbfff;\n",
       "            color:  #000000;\n",
       "        }    #T_9d5de02e_5834_11ea_9d30_d05099219fe1row7_col5 {\n",
       "            background-color:  #6c8ff1;\n",
       "            color:  #000000;\n",
       "        }    #T_9d5de02e_5834_11ea_9d30_d05099219fe1row7_col6 {\n",
       "            background-color:  #afcafc;\n",
       "            color:  #000000;\n",
       "        }    #T_9d5de02e_5834_11ea_9d30_d05099219fe1row7_col7 {\n",
       "            background-color:  #b40426;\n",
       "            color:  #f1f1f1;\n",
       "        }    #T_9d5de02e_5834_11ea_9d30_d05099219fe1row7_col8 {\n",
       "            background-color:  #4961d2;\n",
       "            color:  #f1f1f1;\n",
       "        }    #T_9d5de02e_5834_11ea_9d30_d05099219fe1row7_col9 {\n",
       "            background-color:  #3b4cc0;\n",
       "            color:  #f1f1f1;\n",
       "        }    #T_9d5de02e_5834_11ea_9d30_d05099219fe1row8_col0 {\n",
       "            background-color:  #445acc;\n",
       "            color:  #f1f1f1;\n",
       "        }    #T_9d5de02e_5834_11ea_9d30_d05099219fe1row8_col1 {\n",
       "            background-color:  #7da0f9;\n",
       "            color:  #000000;\n",
       "        }    #T_9d5de02e_5834_11ea_9d30_d05099219fe1row8_col2 {\n",
       "            background-color:  #3d50c3;\n",
       "            color:  #f1f1f1;\n",
       "        }    #T_9d5de02e_5834_11ea_9d30_d05099219fe1row8_col3 {\n",
       "            background-color:  #4358cb;\n",
       "            color:  #f1f1f1;\n",
       "        }    #T_9d5de02e_5834_11ea_9d30_d05099219fe1row8_col4 {\n",
       "            background-color:  #b5cdfa;\n",
       "            color:  #000000;\n",
       "        }    #T_9d5de02e_5834_11ea_9d30_d05099219fe1row8_col5 {\n",
       "            background-color:  #688aef;\n",
       "            color:  #000000;\n",
       "        }    #T_9d5de02e_5834_11ea_9d30_d05099219fe1row8_col6 {\n",
       "            background-color:  #a5c3fe;\n",
       "            color:  #000000;\n",
       "        }    #T_9d5de02e_5834_11ea_9d30_d05099219fe1row8_col7 {\n",
       "            background-color:  #6282ea;\n",
       "            color:  #000000;\n",
       "        }    #T_9d5de02e_5834_11ea_9d30_d05099219fe1row8_col8 {\n",
       "            background-color:  #b40426;\n",
       "            color:  #f1f1f1;\n",
       "        }    #T_9d5de02e_5834_11ea_9d30_d05099219fe1row8_col9 {\n",
       "            background-color:  #cbd8ee;\n",
       "            color:  #000000;\n",
       "        }    #T_9d5de02e_5834_11ea_9d30_d05099219fe1row9_col0 {\n",
       "            background-color:  #4257c9;\n",
       "            color:  #f1f1f1;\n",
       "        }    #T_9d5de02e_5834_11ea_9d30_d05099219fe1row9_col1 {\n",
       "            background-color:  #82a6fb;\n",
       "            color:  #000000;\n",
       "        }    #T_9d5de02e_5834_11ea_9d30_d05099219fe1row9_col2 {\n",
       "            background-color:  #3b4cc0;\n",
       "            color:  #f1f1f1;\n",
       "        }    #T_9d5de02e_5834_11ea_9d30_d05099219fe1row9_col3 {\n",
       "            background-color:  #4055c8;\n",
       "            color:  #f1f1f1;\n",
       "        }    #T_9d5de02e_5834_11ea_9d30_d05099219fe1row9_col4 {\n",
       "            background-color:  #b7cff9;\n",
       "            color:  #000000;\n",
       "        }    #T_9d5de02e_5834_11ea_9d30_d05099219fe1row9_col5 {\n",
       "            background-color:  #6b8df0;\n",
       "            color:  #000000;\n",
       "        }    #T_9d5de02e_5834_11ea_9d30_d05099219fe1row9_col6 {\n",
       "            background-color:  #9abbff;\n",
       "            color:  #000000;\n",
       "        }    #T_9d5de02e_5834_11ea_9d30_d05099219fe1row9_col7 {\n",
       "            background-color:  #3b4cc0;\n",
       "            color:  #f1f1f1;\n",
       "        }    #T_9d5de02e_5834_11ea_9d30_d05099219fe1row9_col8 {\n",
       "            background-color:  #bbd1f8;\n",
       "            color:  #000000;\n",
       "        }    #T_9d5de02e_5834_11ea_9d30_d05099219fe1row9_col9 {\n",
       "            background-color:  #b40426;\n",
       "            color:  #f1f1f1;\n",
       "        }</style><table id=\"T_9d5de02e_5834_11ea_9d30_d05099219fe1\" ><thead>    <tr>        <th class=\"blank level0\" ></th>        <th class=\"col_heading level0 col0\" >holiday</th>        <th class=\"col_heading level0 col1\" >temp</th>        <th class=\"col_heading level0 col2\" >rain_1h</th>        <th class=\"col_heading level0 col3\" >snow_1h</th>        <th class=\"col_heading level0 col4\" >clouds_all</th>        <th class=\"col_heading level0 col5\" >weather_main</th>        <th class=\"col_heading level0 col6\" >weather_description</th>        <th class=\"col_heading level0 col7\" >day_of_week</th>        <th class=\"col_heading level0 col8\" >hour</th>        <th class=\"col_heading level0 col9\" >traffic_volume</th>    </tr></thead><tbody>\n",
       "                <tr>\n",
       "                        <th id=\"T_9d5de02e_5834_11ea_9d30_d05099219fe1level0_row0\" class=\"row_heading level0 row0\" >holiday</th>\n",
       "                        <td id=\"T_9d5de02e_5834_11ea_9d30_d05099219fe1row0_col0\" class=\"data row0 col0\" >1</td>\n",
       "                        <td id=\"T_9d5de02e_5834_11ea_9d30_d05099219fe1row0_col1\" class=\"data row0 col1\" >-0.000424055</td>\n",
       "                        <td id=\"T_9d5de02e_5834_11ea_9d30_d05099219fe1row0_col2\" class=\"data row0 col2\" >-0.000289248</td>\n",
       "                        <td id=\"T_9d5de02e_5834_11ea_9d30_d05099219fe1row0_col3\" class=\"data row0 col3\" >0.000431971</td>\n",
       "                        <td id=\"T_9d5de02e_5834_11ea_9d30_d05099219fe1row0_col4\" class=\"data row0 col4\" >0.00707888</td>\n",
       "                        <td id=\"T_9d5de02e_5834_11ea_9d30_d05099219fe1row0_col5\" class=\"data row0 col5\" >-0.00431427</td>\n",
       "                        <td id=\"T_9d5de02e_5834_11ea_9d30_d05099219fe1row0_col6\" class=\"data row0 col6\" >-0.00823901</td>\n",
       "                        <td id=\"T_9d5de02e_5834_11ea_9d30_d05099219fe1row0_col7\" class=\"data row0 col7\" >0.0214549</td>\n",
       "                        <td id=\"T_9d5de02e_5834_11ea_9d30_d05099219fe1row0_col8\" class=\"data row0 col8\" >0.0260487</td>\n",
       "                        <td id=\"T_9d5de02e_5834_11ea_9d30_d05099219fe1row0_col9\" class=\"data row0 col9\" >0.0186826</td>\n",
       "            </tr>\n",
       "            <tr>\n",
       "                        <th id=\"T_9d5de02e_5834_11ea_9d30_d05099219fe1level0_row1\" class=\"row_heading level0 row1\" >temp</th>\n",
       "                        <td id=\"T_9d5de02e_5834_11ea_9d30_d05099219fe1row1_col0\" class=\"data row1 col0\" >-0.000424055</td>\n",
       "                        <td id=\"T_9d5de02e_5834_11ea_9d30_d05099219fe1row1_col1\" class=\"data row1 col1\" >1</td>\n",
       "                        <td id=\"T_9d5de02e_5834_11ea_9d30_d05099219fe1row1_col2\" class=\"data row1 col2\" >0.089943</td>\n",
       "                        <td id=\"T_9d5de02e_5834_11ea_9d30_d05099219fe1row1_col3\" class=\"data row1 col3\" >-0.0208605</td>\n",
       "                        <td id=\"T_9d5de02e_5834_11ea_9d30_d05099219fe1row1_col4\" class=\"data row1 col4\" >-0.112881</td>\n",
       "                        <td id=\"T_9d5de02e_5834_11ea_9d30_d05099219fe1row1_col5\" class=\"data row1 col5\" >-0.0393927</td>\n",
       "                        <td id=\"T_9d5de02e_5834_11ea_9d30_d05099219fe1row1_col6\" class=\"data row1 col6\" >0.0326282</td>\n",
       "                        <td id=\"T_9d5de02e_5834_11ea_9d30_d05099219fe1row1_col7\" class=\"data row1 col7\" >-0.00309074</td>\n",
       "                        <td id=\"T_9d5de02e_5834_11ea_9d30_d05099219fe1row1_col8\" class=\"data row1 col8\" >0.113423</td>\n",
       "                        <td id=\"T_9d5de02e_5834_11ea_9d30_d05099219fe1row1_col9\" class=\"data row1 col9\" >0.132115</td>\n",
       "            </tr>\n",
       "            <tr>\n",
       "                        <th id=\"T_9d5de02e_5834_11ea_9d30_d05099219fe1level0_row2\" class=\"row_heading level0 row2\" >rain_1h</th>\n",
       "                        <td id=\"T_9d5de02e_5834_11ea_9d30_d05099219fe1row2_col0\" class=\"data row2 col0\" >-0.000289248</td>\n",
       "                        <td id=\"T_9d5de02e_5834_11ea_9d30_d05099219fe1row2_col1\" class=\"data row2 col1\" >0.089943</td>\n",
       "                        <td id=\"T_9d5de02e_5834_11ea_9d30_d05099219fe1row2_col2\" class=\"data row2 col2\" >1</td>\n",
       "                        <td id=\"T_9d5de02e_5834_11ea_9d30_d05099219fe1row2_col3\" class=\"data row2 col3\" >0.00152254</td>\n",
       "                        <td id=\"T_9d5de02e_5834_11ea_9d30_d05099219fe1row2_col4\" class=\"data row2 col4\" >0.0814898</td>\n",
       "                        <td id=\"T_9d5de02e_5834_11ea_9d30_d05099219fe1row2_col5\" class=\"data row2 col5\" >0.175859</td>\n",
       "                        <td id=\"T_9d5de02e_5834_11ea_9d30_d05099219fe1row2_col6\" class=\"data row2 col6\" >0.00403455</td>\n",
       "                        <td id=\"T_9d5de02e_5834_11ea_9d30_d05099219fe1row2_col7\" class=\"data row2 col7\" >-0.00636912</td>\n",
       "                        <td id=\"T_9d5de02e_5834_11ea_9d30_d05099219fe1row2_col8\" class=\"data row2 col8\" >-0.0113699</td>\n",
       "                        <td id=\"T_9d5de02e_5834_11ea_9d30_d05099219fe1row2_col9\" class=\"data row2 col9\" >-0.022372</td>\n",
       "            </tr>\n",
       "            <tr>\n",
       "                        <th id=\"T_9d5de02e_5834_11ea_9d30_d05099219fe1level0_row3\" class=\"row_heading level0 row3\" >snow_1h</th>\n",
       "                        <td id=\"T_9d5de02e_5834_11ea_9d30_d05099219fe1row3_col0\" class=\"data row3 col0\" >0.000431971</td>\n",
       "                        <td id=\"T_9d5de02e_5834_11ea_9d30_d05099219fe1row3_col1\" class=\"data row3 col1\" >-0.0208605</td>\n",
       "                        <td id=\"T_9d5de02e_5834_11ea_9d30_d05099219fe1row3_col2\" class=\"data row3 col2\" >0.00152254</td>\n",
       "                        <td id=\"T_9d5de02e_5834_11ea_9d30_d05099219fe1row3_col3\" class=\"data row3 col3\" >1</td>\n",
       "                        <td id=\"T_9d5de02e_5834_11ea_9d30_d05099219fe1row3_col4\" class=\"data row3 col4\" >0.027932</td>\n",
       "                        <td id=\"T_9d5de02e_5834_11ea_9d30_d05099219fe1row3_col5\" class=\"data row3 col5\" >0.036641</td>\n",
       "                        <td id=\"T_9d5de02e_5834_11ea_9d30_d05099219fe1row3_col6\" class=\"data row3 col6\" >0.00236941</td>\n",
       "                        <td id=\"T_9d5de02e_5834_11ea_9d30_d05099219fe1row3_col7\" class=\"data row3 col7\" >-0.0149258</td>\n",
       "                        <td id=\"T_9d5de02e_5834_11ea_9d30_d05099219fe1row3_col8\" class=\"data row3 col8\" >0.00984861</td>\n",
       "                        <td id=\"T_9d5de02e_5834_11ea_9d30_d05099219fe1row3_col9\" class=\"data row3 col9\" >0.00073152</td>\n",
       "            </tr>\n",
       "            <tr>\n",
       "                        <th id=\"T_9d5de02e_5834_11ea_9d30_d05099219fe1level0_row4\" class=\"row_heading level0 row4\" >clouds_all</th>\n",
       "                        <td id=\"T_9d5de02e_5834_11ea_9d30_d05099219fe1row4_col0\" class=\"data row4 col0\" >0.00707888</td>\n",
       "                        <td id=\"T_9d5de02e_5834_11ea_9d30_d05099219fe1row4_col1\" class=\"data row4 col1\" >-0.112881</td>\n",
       "                        <td id=\"T_9d5de02e_5834_11ea_9d30_d05099219fe1row4_col2\" class=\"data row4 col2\" >0.0814898</td>\n",
       "                        <td id=\"T_9d5de02e_5834_11ea_9d30_d05099219fe1row4_col3\" class=\"data row4 col3\" >0.027932</td>\n",
       "                        <td id=\"T_9d5de02e_5834_11ea_9d30_d05099219fe1row4_col4\" class=\"data row4 col4\" >1</td>\n",
       "                        <td id=\"T_9d5de02e_5834_11ea_9d30_d05099219fe1row4_col5\" class=\"data row4 col5\" >0.500698</td>\n",
       "                        <td id=\"T_9d5de02e_5834_11ea_9d30_d05099219fe1row4_col6\" class=\"data row4 col6\" >-0.490397</td>\n",
       "                        <td id=\"T_9d5de02e_5834_11ea_9d30_d05099219fe1row4_col7\" class=\"data row4 col7\" >-0.0395194</td>\n",
       "                        <td id=\"T_9d5de02e_5834_11ea_9d30_d05099219fe1row4_col8\" class=\"data row4 col8\" >0.054287</td>\n",
       "                        <td id=\"T_9d5de02e_5834_11ea_9d30_d05099219fe1row4_col9\" class=\"data row4 col9\" >0.0668887</td>\n",
       "            </tr>\n",
       "            <tr>\n",
       "                        <th id=\"T_9d5de02e_5834_11ea_9d30_d05099219fe1level0_row5\" class=\"row_heading level0 row5\" >weather_main</th>\n",
       "                        <td id=\"T_9d5de02e_5834_11ea_9d30_d05099219fe1row5_col0\" class=\"data row5 col0\" >-0.00431427</td>\n",
       "                        <td id=\"T_9d5de02e_5834_11ea_9d30_d05099219fe1row5_col1\" class=\"data row5 col1\" >-0.0393927</td>\n",
       "                        <td id=\"T_9d5de02e_5834_11ea_9d30_d05099219fe1row5_col2\" class=\"data row5 col2\" >0.175859</td>\n",
       "                        <td id=\"T_9d5de02e_5834_11ea_9d30_d05099219fe1row5_col3\" class=\"data row5 col3\" >0.036641</td>\n",
       "                        <td id=\"T_9d5de02e_5834_11ea_9d30_d05099219fe1row5_col4\" class=\"data row5 col4\" >0.500698</td>\n",
       "                        <td id=\"T_9d5de02e_5834_11ea_9d30_d05099219fe1row5_col5\" class=\"data row5 col5\" >1</td>\n",
       "                        <td id=\"T_9d5de02e_5834_11ea_9d30_d05099219fe1row5_col6\" class=\"data row5 col6\" >-0.23185</td>\n",
       "                        <td id=\"T_9d5de02e_5834_11ea_9d30_d05099219fe1row5_col7\" class=\"data row5 col7\" >-0.0384911</td>\n",
       "                        <td id=\"T_9d5de02e_5834_11ea_9d30_d05099219fe1row5_col8\" class=\"data row5 col8\" >-0.0538052</td>\n",
       "                        <td id=\"T_9d5de02e_5834_11ea_9d30_d05099219fe1row5_col9\" class=\"data row5 col9\" >-0.0403769</td>\n",
       "            </tr>\n",
       "            <tr>\n",
       "                        <th id=\"T_9d5de02e_5834_11ea_9d30_d05099219fe1level0_row6\" class=\"row_heading level0 row6\" >weather_description</th>\n",
       "                        <td id=\"T_9d5de02e_5834_11ea_9d30_d05099219fe1row6_col0\" class=\"data row6 col0\" >-0.00823901</td>\n",
       "                        <td id=\"T_9d5de02e_5834_11ea_9d30_d05099219fe1row6_col1\" class=\"data row6 col1\" >0.0326282</td>\n",
       "                        <td id=\"T_9d5de02e_5834_11ea_9d30_d05099219fe1row6_col2\" class=\"data row6 col2\" >0.00403455</td>\n",
       "                        <td id=\"T_9d5de02e_5834_11ea_9d30_d05099219fe1row6_col3\" class=\"data row6 col3\" >0.00236941</td>\n",
       "                        <td id=\"T_9d5de02e_5834_11ea_9d30_d05099219fe1row6_col4\" class=\"data row6 col4\" >-0.490397</td>\n",
       "                        <td id=\"T_9d5de02e_5834_11ea_9d30_d05099219fe1row6_col5\" class=\"data row6 col5\" >-0.23185</td>\n",
       "                        <td id=\"T_9d5de02e_5834_11ea_9d30_d05099219fe1row6_col6\" class=\"data row6 col6\" >1</td>\n",
       "                        <td id=\"T_9d5de02e_5834_11ea_9d30_d05099219fe1row6_col7\" class=\"data row6 col7\" >0.0278993</td>\n",
       "                        <td id=\"T_9d5de02e_5834_11ea_9d30_d05099219fe1row6_col8\" class=\"data row6 col8\" >-0.0153519</td>\n",
       "                        <td id=\"T_9d5de02e_5834_11ea_9d30_d05099219fe1row6_col9\" class=\"data row6 col9\" >-0.0610156</td>\n",
       "            </tr>\n",
       "            <tr>\n",
       "                        <th id=\"T_9d5de02e_5834_11ea_9d30_d05099219fe1level0_row7\" class=\"row_heading level0 row7\" >day_of_week</th>\n",
       "                        <td id=\"T_9d5de02e_5834_11ea_9d30_d05099219fe1row7_col0\" class=\"data row7 col0\" >0.0214549</td>\n",
       "                        <td id=\"T_9d5de02e_5834_11ea_9d30_d05099219fe1row7_col1\" class=\"data row7 col1\" >-0.00309074</td>\n",
       "                        <td id=\"T_9d5de02e_5834_11ea_9d30_d05099219fe1row7_col2\" class=\"data row7 col2\" >-0.00636912</td>\n",
       "                        <td id=\"T_9d5de02e_5834_11ea_9d30_d05099219fe1row7_col3\" class=\"data row7 col3\" >-0.0149258</td>\n",
       "                        <td id=\"T_9d5de02e_5834_11ea_9d30_d05099219fe1row7_col4\" class=\"data row7 col4\" >-0.0395194</td>\n",
       "                        <td id=\"T_9d5de02e_5834_11ea_9d30_d05099219fe1row7_col5\" class=\"data row7 col5\" >-0.0384911</td>\n",
       "                        <td id=\"T_9d5de02e_5834_11ea_9d30_d05099219fe1row7_col6\" class=\"data row7 col6\" >0.0278993</td>\n",
       "                        <td id=\"T_9d5de02e_5834_11ea_9d30_d05099219fe1row7_col7\" class=\"data row7 col7\" >1</td>\n",
       "                        <td id=\"T_9d5de02e_5834_11ea_9d30_d05099219fe1row7_col8\" class=\"data row7 col8\" >-0.00358344</td>\n",
       "                        <td id=\"T_9d5de02e_5834_11ea_9d30_d05099219fe1row7_col9\" class=\"data row7 col9\" >-0.149306</td>\n",
       "            </tr>\n",
       "            <tr>\n",
       "                        <th id=\"T_9d5de02e_5834_11ea_9d30_d05099219fe1level0_row8\" class=\"row_heading level0 row8\" >hour</th>\n",
       "                        <td id=\"T_9d5de02e_5834_11ea_9d30_d05099219fe1row8_col0\" class=\"data row8 col0\" >0.0260487</td>\n",
       "                        <td id=\"T_9d5de02e_5834_11ea_9d30_d05099219fe1row8_col1\" class=\"data row8 col1\" >0.113423</td>\n",
       "                        <td id=\"T_9d5de02e_5834_11ea_9d30_d05099219fe1row8_col2\" class=\"data row8 col2\" >-0.0113699</td>\n",
       "                        <td id=\"T_9d5de02e_5834_11ea_9d30_d05099219fe1row8_col3\" class=\"data row8 col3\" >0.00984861</td>\n",
       "                        <td id=\"T_9d5de02e_5834_11ea_9d30_d05099219fe1row8_col4\" class=\"data row8 col4\" >0.054287</td>\n",
       "                        <td id=\"T_9d5de02e_5834_11ea_9d30_d05099219fe1row8_col5\" class=\"data row8 col5\" >-0.0538052</td>\n",
       "                        <td id=\"T_9d5de02e_5834_11ea_9d30_d05099219fe1row8_col6\" class=\"data row8 col6\" >-0.0153519</td>\n",
       "                        <td id=\"T_9d5de02e_5834_11ea_9d30_d05099219fe1row8_col7\" class=\"data row8 col7\" >-0.00358344</td>\n",
       "                        <td id=\"T_9d5de02e_5834_11ea_9d30_d05099219fe1row8_col8\" class=\"data row8 col8\" >1</td>\n",
       "                        <td id=\"T_9d5de02e_5834_11ea_9d30_d05099219fe1row8_col9\" class=\"data row8 col9\" >0.352177</td>\n",
       "            </tr>\n",
       "            <tr>\n",
       "                        <th id=\"T_9d5de02e_5834_11ea_9d30_d05099219fe1level0_row9\" class=\"row_heading level0 row9\" >traffic_volume</th>\n",
       "                        <td id=\"T_9d5de02e_5834_11ea_9d30_d05099219fe1row9_col0\" class=\"data row9 col0\" >0.0186826</td>\n",
       "                        <td id=\"T_9d5de02e_5834_11ea_9d30_d05099219fe1row9_col1\" class=\"data row9 col1\" >0.132115</td>\n",
       "                        <td id=\"T_9d5de02e_5834_11ea_9d30_d05099219fe1row9_col2\" class=\"data row9 col2\" >-0.022372</td>\n",
       "                        <td id=\"T_9d5de02e_5834_11ea_9d30_d05099219fe1row9_col3\" class=\"data row9 col3\" >0.00073152</td>\n",
       "                        <td id=\"T_9d5de02e_5834_11ea_9d30_d05099219fe1row9_col4\" class=\"data row9 col4\" >0.0668887</td>\n",
       "                        <td id=\"T_9d5de02e_5834_11ea_9d30_d05099219fe1row9_col5\" class=\"data row9 col5\" >-0.0403769</td>\n",
       "                        <td id=\"T_9d5de02e_5834_11ea_9d30_d05099219fe1row9_col6\" class=\"data row9 col6\" >-0.0610156</td>\n",
       "                        <td id=\"T_9d5de02e_5834_11ea_9d30_d05099219fe1row9_col7\" class=\"data row9 col7\" >-0.149306</td>\n",
       "                        <td id=\"T_9d5de02e_5834_11ea_9d30_d05099219fe1row9_col8\" class=\"data row9 col8\" >0.352177</td>\n",
       "                        <td id=\"T_9d5de02e_5834_11ea_9d30_d05099219fe1row9_col9\" class=\"data row9 col9\" >1</td>\n",
       "            </tr>\n",
       "    </tbody></table>"
      ],
      "text/plain": [
       "<pandas.io.formats.style.Styler at 0x7f5d5cddccf8>"
      ]
     },
     "execution_count": 95,
     "metadata": {},
     "output_type": "execute_result"
    }
   ],
   "source": [
    "corr = df.corr()\n",
    "corr.style.background_gradient(\"coolwarm\")"
   ]
  },
  {
   "cell_type": "markdown",
   "metadata": {},
   "source": [
    "## Normalizando os dados de entrada"
   ]
  },
  {
   "cell_type": "code",
   "execution_count": 96,
   "metadata": {},
   "outputs": [],
   "source": [
    "# Função utilizada para a normalização\n",
    "def normalize(df):\n",
    "    result = df.copy()\n",
    "    for feature_name in df.columns:\n",
    "        max_value = df[feature_name].max()\n",
    "        min_value = df[feature_name].min()\n",
    "        result[feature_name] = (df[feature_name] - min_value) / (max_value - min_value)\n",
    "    return result"
   ]
  },
  {
   "cell_type": "code",
   "execution_count": 100,
   "metadata": {
    "scrolled": true
   },
   "outputs": [
    {
     "data": {
      "text/html": [
       "<div>\n",
       "<style scoped>\n",
       "    .dataframe tbody tr th:only-of-type {\n",
       "        vertical-align: middle;\n",
       "    }\n",
       "\n",
       "    .dataframe tbody tr th {\n",
       "        vertical-align: top;\n",
       "    }\n",
       "\n",
       "    .dataframe thead th {\n",
       "        text-align: right;\n",
       "    }\n",
       "</style>\n",
       "<table border=\"1\" class=\"dataframe\">\n",
       "  <thead>\n",
       "    <tr style=\"text-align: right;\">\n",
       "      <th></th>\n",
       "      <th>holiday</th>\n",
       "      <th>temp</th>\n",
       "      <th>rain_1h</th>\n",
       "      <th>snow_1h</th>\n",
       "      <th>clouds_all</th>\n",
       "      <th>weather_main</th>\n",
       "      <th>weather_description</th>\n",
       "      <th>day_of_week</th>\n",
       "      <th>hour</th>\n",
       "      <th>traffic_volume</th>\n",
       "    </tr>\n",
       "  </thead>\n",
       "  <tbody>\n",
       "    <tr>\n",
       "      <th>0</th>\n",
       "      <td>0.636364</td>\n",
       "      <td>0.673215</td>\n",
       "      <td>0.0</td>\n",
       "      <td>0.0</td>\n",
       "      <td>0.40</td>\n",
       "      <td>0.1</td>\n",
       "      <td>0.638889</td>\n",
       "      <td>0.166667</td>\n",
       "      <td>0.391304</td>\n",
       "      <td>5545</td>\n",
       "    </tr>\n",
       "    <tr>\n",
       "      <th>1</th>\n",
       "      <td>0.636364</td>\n",
       "      <td>0.689412</td>\n",
       "      <td>0.0</td>\n",
       "      <td>0.0</td>\n",
       "      <td>0.75</td>\n",
       "      <td>0.1</td>\n",
       "      <td>0.027778</td>\n",
       "      <td>0.166667</td>\n",
       "      <td>0.434783</td>\n",
       "      <td>4516</td>\n",
       "    </tr>\n",
       "    <tr>\n",
       "      <th>2</th>\n",
       "      <td>0.636364</td>\n",
       "      <td>0.692711</td>\n",
       "      <td>0.0</td>\n",
       "      <td>0.0</td>\n",
       "      <td>0.90</td>\n",
       "      <td>0.1</td>\n",
       "      <td>0.500000</td>\n",
       "      <td>0.166667</td>\n",
       "      <td>0.478261</td>\n",
       "      <td>4767</td>\n",
       "    </tr>\n",
       "    <tr>\n",
       "      <th>3</th>\n",
       "      <td>0.636364</td>\n",
       "      <td>0.700960</td>\n",
       "      <td>0.0</td>\n",
       "      <td>0.0</td>\n",
       "      <td>0.90</td>\n",
       "      <td>0.1</td>\n",
       "      <td>0.500000</td>\n",
       "      <td>0.166667</td>\n",
       "      <td>0.521739</td>\n",
       "      <td>5026</td>\n",
       "    </tr>\n",
       "    <tr>\n",
       "      <th>4</th>\n",
       "      <td>0.636364</td>\n",
       "      <td>0.716107</td>\n",
       "      <td>0.0</td>\n",
       "      <td>0.0</td>\n",
       "      <td>0.75</td>\n",
       "      <td>0.1</td>\n",
       "      <td>0.027778</td>\n",
       "      <td>0.166667</td>\n",
       "      <td>0.565217</td>\n",
       "      <td>4918</td>\n",
       "    </tr>\n",
       "  </tbody>\n",
       "</table>\n",
       "</div>"
      ],
      "text/plain": [
       "    holiday      temp  rain_1h  snow_1h  clouds_all  weather_main  \\\n",
       "0  0.636364  0.673215      0.0      0.0        0.40           0.1   \n",
       "1  0.636364  0.689412      0.0      0.0        0.75           0.1   \n",
       "2  0.636364  0.692711      0.0      0.0        0.90           0.1   \n",
       "3  0.636364  0.700960      0.0      0.0        0.90           0.1   \n",
       "4  0.636364  0.716107      0.0      0.0        0.75           0.1   \n",
       "\n",
       "   weather_description  day_of_week      hour  traffic_volume  \n",
       "0             0.638889     0.166667  0.391304            5545  \n",
       "1             0.027778     0.166667  0.434783            4516  \n",
       "2             0.500000     0.166667  0.478261            4767  \n",
       "3             0.500000     0.166667  0.521739            5026  \n",
       "4             0.027778     0.166667  0.565217            4918  "
      ]
     },
     "execution_count": 100,
     "metadata": {},
     "output_type": "execute_result"
    }
   ],
   "source": [
    "df.iloc[:, :9] = normalize(df.iloc[:, :9])\n",
    "df.head()"
   ]
  },
  {
   "cell_type": "markdown",
   "metadata": {},
   "source": [
    "# Split Data em entrada e saida"
   ]
  },
  {
   "cell_type": "code",
   "execution_count": 342,
   "metadata": {},
   "outputs": [],
   "source": [
    "x = df.iloc[:, :9]\n",
    "y = df.iloc[:,9:]"
   ]
  },
  {
   "cell_type": "markdown",
   "metadata": {},
   "source": [
    "### Split realizado na proporção de 30% teste e 70% treinamento"
   ]
  },
  {
   "cell_type": "code",
   "execution_count": 343,
   "metadata": {},
   "outputs": [],
   "source": [
    "from sklearn.model_selection import train_test_split\n",
    "#Separando em dados de treino(entrada e saida) e dados de teste(entrada e saida)\n",
    "x_train, x_test, y_train, y_test = train_test_split( x, y, test_size=0.30, random_state = 12)"
   ]
  },
  {
   "cell_type": "markdown",
   "metadata": {},
   "source": [
    "### Observando o conjunto de treino e de teste"
   ]
  },
  {
   "cell_type": "markdown",
   "metadata": {},
   "source": [
    "### X_train"
   ]
  },
  {
   "cell_type": "code",
   "execution_count": 344,
   "metadata": {},
   "outputs": [
    {
     "data": {
      "text/plain": [
       "<matplotlib.axes._subplots.AxesSubplot at 0x7f5d52497da0>"
      ]
     },
     "execution_count": 344,
     "metadata": {},
     "output_type": "execute_result"
    },
    {
     "data": {
      "image/png": "[encoded data removed]",
      "text/plain": [
       "<Figure size 576x360 with 1 Axes>"
      ]
     },
     "metadata": {
      "needs_background": "light"
     },
     "output_type": "display_data"
    }
   ],
   "source": [
    "x_train.plot(kind='hist', figsize=(8,5))"
   ]
  },
  {
   "cell_type": "markdown",
   "metadata": {},
   "source": [
    "### X_test"
   ]
  },
  {
   "cell_type": "code",
   "execution_count": 345,
   "metadata": {},
   "outputs": [
    {
     "data": {
      "text/plain": [
       "<matplotlib.axes._subplots.AxesSubplot at 0x7f5d522d4630>"
      ]
     },
     "execution_count": 345,
     "metadata": {},
     "output_type": "execute_result"
    },
    {
     "data": {
      "image/png": "[encoded data removed]",
      "text/plain": [
       "<Figure size 576x360 with 1 Axes>"
      ]
     },
     "metadata": {
      "needs_background": "light"
     },
     "output_type": "display_data"
    }
   ],
   "source": [
    "x_test.plot(kind='hist', figsize=(8,5))"
   ]
  },
  {
   "cell_type": "markdown",
   "metadata": {},
   "source": [
    "### Y_train"
   ]
  },
  {
   "cell_type": "code",
   "execution_count": 346,
   "metadata": {},
   "outputs": [
    {
     "data": {
      "text/plain": [
       "<matplotlib.axes._subplots.AxesSubplot at 0x7f5d5017f518>"
      ]
     },
     "execution_count": 346,
     "metadata": {},
     "output_type": "execute_result"
    },
    {
     "data": {
      "image/png": "[encoded data removed]",
      "text/plain": [
       "<Figure size 576x360 with 1 Axes>"
      ]
     },
     "metadata": {
      "needs_background": "light"
     },
     "output_type": "display_data"
    }
   ],
   "source": [
    "y_train.plot(kind='hist', figsize=(8,5))"
   ]
  },
  {
   "cell_type": "markdown",
   "metadata": {},
   "source": [
    "### Y_test"
   ]
  },
  {
   "cell_type": "code",
   "execution_count": 347,
   "metadata": {},
   "outputs": [
    {
     "data": {
      "text/plain": [
       "<matplotlib.axes._subplots.AxesSubplot at 0x7f5d50106e10>"
      ]
     },
     "execution_count": 347,
     "metadata": {},
     "output_type": "execute_result"
    },
    {
     "data": {
      "image/png": "[encoded data removed]",
      "text/plain": [
       "<Figure size 576x360 with 1 Axes>"
      ]
     },
     "metadata": {
      "needs_background": "light"
     },
     "output_type": "display_data"
    }
   ],
   "source": [
    "y_test.plot(kind='hist', figsize=(8,5))"
   ]
  },
  {
   "cell_type": "markdown",
   "metadata": {},
   "source": [
    "# KNeighborsRegressor"
   ]
  },
  {
   "cell_type": "markdown",
   "metadata": {},
   "source": [
    "#### Utilizaremos o KNN Regressor para realizar a regressão do valor do volume de tráfego.\n",
    "#### Inicialmente testaremos valores de K entre 1 e 21 para verificar o valor do RMSE"
   ]
  },
  {
   "cell_type": "code",
   "execution_count": 108,
   "metadata": {},
   "outputs": [
    {
     "name": "stdout",
     "output_type": "stream",
     "text": [
      "RMSE value for k=  1 is: 788.3438747780189\n",
      "RMSE value for k=  2 is: 670.1431161051355\n",
      "RMSE value for k=  3 is: 635.5529413300434\n",
      "RMSE value for k=  4 is: 622.4959160107635\n",
      "RMSE value for k=  5 is: 614.8962830777074\n",
      "RMSE value for k=  6 is: 613.4664601716707\n",
      "RMSE value for k=  7 is: 611.9016772044689\n",
      "RMSE value for k=  8 is: 616.584238502505\n",
      "RMSE value for k=  9 is: 620.3478376990046\n",
      "RMSE value for k=  10 is: 626.0854369805184\n",
      "RMSE value for k=  11 is: 629.3786289659519\n",
      "RMSE value for k=  12 is: 634.4004021120719\n",
      "RMSE value for k=  13 is: 637.193934512899\n",
      "RMSE value for k=  14 is: 642.0198228408416\n",
      "RMSE value for k=  15 is: 646.876920957583\n",
      "RMSE value for k=  16 is: 651.8986107528549\n",
      "RMSE value for k=  17 is: 656.1510299277758\n",
      "RMSE value for k=  18 is: 661.0687206152996\n",
      "RMSE value for k=  19 is: 666.1148160317285\n",
      "RMSE value for k=  20 is: 671.4332192238163\n"
     ]
    }
   ],
   "source": [
    "from sklearn.neighbors import KNeighborsRegressor\n",
    "from sklearn.metrics import accuracy_score\n",
    "from sklearn.metrics import mean_squared_error \n",
    "from math import sqrt\n",
    "\n",
    "rmse_val = [] #to store rmse values for different k\n",
    "for K in range(1,21):\n",
    "    knn = KNeighborsRegressor(n_neighbors = K)\n",
    "    knn.fit(x_train, y_train)  #fit the model\n",
    "    y_pred=knn.predict(x_test) #make prediction on test set\n",
    "\n",
    "    error = sqrt(mean_squared_error(y_test,y_pred)) #calculate rmse\n",
    "    rmse_val.append(error) #store rmse values\n",
    "    #print('RMSE value for k= ' , K , 'is:', error)"
   ]
  },
  {
   "cell_type": "markdown",
   "metadata": {},
   "source": [
    "### No gráfico abaixo é possivel observar que o menor valor do Erro RMSE ocorre no valor de K = 7 no valor de 611.9"
   ]
  },
  {
   "cell_type": "code",
   "execution_count": 249,
   "metadata": {},
   "outputs": [
    {
     "data": {
      "text/plain": [
       "<matplotlib.axes._subplots.AxesSubplot at 0x7f5d57b31c88>"
      ]
     },
     "execution_count": 249,
     "metadata": {},
     "output_type": "execute_result"
    },
    {
     "data": {
      "image/png": "[encoded data removed]",
      "text/plain": [
       "<Figure size 432x288 with 1 Axes>"
      ]
     },
     "metadata": {
      "needs_background": "light"
     },
     "output_type": "display_data"
    }
   ],
   "source": [
    "curve = pd.DataFrame(rmse_val) #elbow curve \n",
    "curve.plot()"
   ]
  },
  {
   "cell_type": "markdown",
   "metadata": {},
   "source": [
    "### TESTE 1 : Realizando o KNN com K = 7 e split aleatório "
   ]
  },
  {
   "cell_type": "code",
   "execution_count": 348,
   "metadata": {},
   "outputs": [],
   "source": [
    "x_train, x_test, y_train, y_test = train_test_split( x, y, test_size=0.30, random_state = 30)"
   ]
  },
  {
   "cell_type": "code",
   "execution_count": 349,
   "metadata": {},
   "outputs": [],
   "source": [
    "knn = KNeighborsRegressor(n_neighbors = 7)\n",
    "knn.fit(x_train, y_train)  \n",
    "y_pred = knn.predict(x_test) "
   ]
  },
  {
   "cell_type": "markdown",
   "metadata": {},
   "source": [
    "### Root Mean Squared Error (RMSE)\n",
    "####  A primeira métrica utilizada para verificar o desempenho do nosso modelo regressor será o RMSE. O RMSE nada mais é do diferença entre o valor que foi previsto pelo modelo e o valor real observado."
   ]
  },
  {
   "cell_type": "code",
   "execution_count": 350,
   "metadata": {},
   "outputs": [
    {
     "data": {
      "text/plain": [
       "622.5269861085671"
      ]
     },
     "execution_count": 350,
     "metadata": {},
     "output_type": "execute_result"
    }
   ],
   "source": [
    "# Valor do RMSE do nosso modelo\n",
    "sqrt(mean_squared_error(y_test,y_pred))"
   ]
  },
  {
   "cell_type": "markdown",
   "metadata": {},
   "source": [
    "### R2 Score\n",
    "\n",
    "#### O R2 Score é uma medida estatística que diz o quão próximo os dados estão da linha de regressão ajustada. O valor varia entre 0 e 1 e quanto mais perto de 1 melhor é o modelo"
   ]
  },
  {
   "cell_type": "code",
   "execution_count": 351,
   "metadata": {},
   "outputs": [
    {
     "data": {
      "text/plain": [
       "0.902"
      ]
     },
     "execution_count": 351,
     "metadata": {},
     "output_type": "execute_result"
    }
   ],
   "source": [
    "from sklearn.metrics import r2_score\n",
    "\n",
    "r2_score(y_test, y_pred).round(4)"
   ]
  },
  {
   "cell_type": "markdown",
   "metadata": {},
   "source": [
    "### Gráfico que apresenta o resultado da regressão para 20 amostras."
   ]
  },
  {
   "cell_type": "code",
   "execution_count": 352,
   "metadata": {},
   "outputs": [
    {
     "data": {
      "text/plain": [
       "<matplotlib.axes._subplots.AxesSubplot at 0x7f5d500be2b0>"
      ]
     },
     "execution_count": 352,
     "metadata": {},
     "output_type": "execute_result"
    },
    {
     "data": {
      "image/png": "[encoded data removed]",
      "text/plain": [
       "<Figure size 720x360 with 1 Axes>"
      ]
     },
     "metadata": {
      "needs_background": "light"
     },
     "output_type": "display_data"
    }
   ],
   "source": [
    "plotSaida = pd.DataFrame({'Real': np.array(y_test).flatten(), 'Predicted': np.array(y_pred).flatten()})\n",
    "plotSaida = plotSaida.sample(20)\n",
    "plotSaida.plot.bar(figsize=(10,5))"
   ]
  },
  {
   "cell_type": "markdown",
   "metadata": {},
   "source": [
    "### TESTE 2 : Realizando o KNN com K = 7 e split aleatório "
   ]
  },
  {
   "cell_type": "code",
   "execution_count": 353,
   "metadata": {},
   "outputs": [],
   "source": [
    "x_train, x_test, y_train, y_test = train_test_split( x, y, test_size=0.30, random_state = 130)"
   ]
  },
  {
   "cell_type": "code",
   "execution_count": 360,
   "metadata": {},
   "outputs": [],
   "source": [
    "knn = KNeighborsRegressor(n_neighbors = 7)\n",
    "knn.fit(x_train, y_train)  \n",
    "y_pred = knn.predict(x_test) "
   ]
  },
  {
   "cell_type": "code",
   "execution_count": 355,
   "metadata": {},
   "outputs": [
    {
     "data": {
      "text/plain": [
       "623.1842957288752"
      ]
     },
     "execution_count": 355,
     "metadata": {},
     "output_type": "execute_result"
    }
   ],
   "source": [
    "# Valor do RMSE do nosso modelo\n",
    "sqrt(mean_squared_error(y_test,y_pred))"
   ]
  },
  {
   "cell_type": "code",
   "execution_count": 356,
   "metadata": {},
   "outputs": [
    {
     "data": {
      "text/plain": [
       "0.9021"
      ]
     },
     "execution_count": 356,
     "metadata": {},
     "output_type": "execute_result"
    }
   ],
   "source": [
    "from sklearn.metrics import r2_score\n",
    "\n",
    "r2_score(y_test, y_pred).round(4)"
   ]
  },
  {
   "cell_type": "code",
   "execution_count": 357,
   "metadata": {},
   "outputs": [
    {
     "data": {
      "text/plain": [
       "<matplotlib.axes._subplots.AxesSubplot at 0x7f5d4fff2320>"
      ]
     },
     "execution_count": 357,
     "metadata": {},
     "output_type": "execute_result"
    },
    {
     "data": {
      "image/png": "[encoded data removed]",
      "text/plain": [
       "<Figure size 720x360 with 1 Axes>"
      ]
     },
     "metadata": {
      "needs_background": "light"
     },
     "output_type": "display_data"
    }
   ],
   "source": [
    "plotSaida = pd.DataFrame({'Real': np.array(y_test).flatten(), 'Predicted': np.array(y_pred).flatten()})\n",
    "plotSaida = plotSaida.sample(20)\n",
    "plotSaida.plot.bar(figsize=(10,5))"
   ]
  },
  {
   "cell_type": "markdown",
   "metadata": {},
   "source": [
    "### O split aleatorio não impactou tanto a saida do nosso modelo regressor. O valor do RMSE e do R2Score ficaram próximos nas duas repetições."
   ]
  },
  {
   "cell_type": "markdown",
   "metadata": {},
   "source": [
    "# Validação Cruzada com o KNN\n",
    "\n",
    "### A Validação Cruzada mostra como o modelo generaliza, ou seja, como ele se comporta quando vai prever um dado que nunca viu."
   ]
  },
  {
   "cell_type": "markdown",
   "metadata": {},
   "source": [
    "### Executando validação cruzada com cv = 10"
   ]
  },
  {
   "cell_type": "code",
   "execution_count": 358,
   "metadata": {},
   "outputs": [
    {
     "data": {
      "text/plain": [
       "array([0.87201289, 0.91258416, 0.85872156, 0.91178619, 0.89856332,\n",
       "       0.85361731, 0.91243456, 0.91608969, 0.86860602, 0.90939701])"
      ]
     },
     "execution_count": 358,
     "metadata": {},
     "output_type": "execute_result"
    }
   ],
   "source": [
    "from sklearn.model_selection import cross_val_score\n",
    "\n",
    "knn = KNeighborsRegressor(n_neighbors = 7)\n",
    "scores = cross_val_score(knn, x, y, cv=10)\n",
    "scores"
   ]
  },
  {
   "cell_type": "code",
   "execution_count": 314,
   "metadata": {},
   "outputs": [
    {
     "name": "stdout",
     "output_type": "stream",
     "text": [
      "Acurácia: 0.89 (+/- 0.05)\n"
     ]
    }
   ],
   "source": [
    "print(\"Acurácia: %0.2f (+/- %0.2f)\" % (scores.mean(), scores.std() * 2))"
   ]
  },
  {
   "cell_type": "markdown",
   "metadata": {},
   "source": [
    "### A validação cruzada(CV) mostra que nosso modelo é capaz de obter 89% de acuracia na previsão de dados que nunca foram apresentados para o modelo.  O lado positivo do CV em relação ao split  é que ele proporciona um melhor treinamento do modelo e pode evitar overfitting."
   ]
  },
  {
   "cell_type": "code",
   "execution_count": null,
   "metadata": {},
   "outputs": [],
   "source": []
  },
  {
   "cell_type": "code",
   "execution_count": null,
   "metadata": {},
   "outputs": [],
   "source": []
  },
  {
   "cell_type": "code",
   "execution_count": null,
   "metadata": {},
   "outputs": [],
   "source": []
  },
  {
   "cell_type": "code",
   "execution_count": null,
   "metadata": {},
   "outputs": [],
   "source": []
  },
  {
   "cell_type": "code",
   "execution_count": null,
   "metadata": {},
   "outputs": [],
   "source": []
  }
 ],
 "metadata": {
  "kernelspec": {
   "display_name": "Python 3",
   "language": "python",
   "name": "python3"
  },
  "language_info": {
   "codemirror_mode": {
    "name": "ipython",
    "version": 3
   },
   "file_extension": ".py",
   "mimetype": "text/x-python",
   "name": "python",
   "nbconvert_exporter": "python",
   "pygments_lexer": "ipython3",
   "version": "3.5.2"
  }
 },
 "nbformat": 4,
 "nbformat_minor": 4
}
